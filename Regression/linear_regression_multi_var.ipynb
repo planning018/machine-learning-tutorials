{
 "cells": [
  {
   "cell_type": "code",
   "execution_count": 2,
   "id": "d9a6f629-3b66-46c4-b5ec-6fbadd7dc201",
   "metadata": {},
   "outputs": [],
   "source": [
    "import numpy as np\n",
    "from sklearn import linear_model\n",
    "import sklearn.metrics as sm\n",
    "from sklearn.preprocessing import PolynomialFeatures"
   ]
  },
  {
   "cell_type": "code",
   "execution_count": 3,
   "id": "4dd81b92-7e37-46ea-8f81-28277eb708c7",
   "metadata": {},
   "outputs": [],
   "source": [
    "filename = './data/data_multivar.txt'\n",
    "X = []\n",
    "y = []\n",
    "with open(filename, 'r') as f:\n",
    "    for line in f.readlines():\n",
    "        data = [float(i) for i in line.split(',')]\n",
    "        xt, yt = data[:-1], data[-1]\n",
    "        X.append(xt)\n",
    "        y.append(yt)"
   ]
  },
  {
   "cell_type": "code",
   "execution_count": 4,
   "id": "08278b32-2465-4979-941e-b55a3abf19bf",
   "metadata": {},
   "outputs": [],
   "source": [
    "# Train/test split\n",
    "num_training = int(0.8 * len(X))\n",
    "num_test = len(X) - num_training\n",
    "\n",
    "# Training data\n",
    "#X_train = np.array(X[:num_training]).reshape((num_training,1))\n",
    "X_train = np.array(X[:num_training])\n",
    "y_train = np.array(y[:num_training])\n",
    "\n",
    "# Test data\n",
    "#X_test = np.array(X[num_training:]).reshape((num_test,1))\n",
    "X_test = np.array(X[num_training:])\n",
    "y_test = np.array(y[num_training:])"
   ]
  },
  {
   "cell_type": "code",
   "execution_count": 5,
   "id": "f10eb70e-fe38-423f-963e-c2c141962a84",
   "metadata": {},
   "outputs": [],
   "source": [
    "# Create linear regression object\n",
    "linear_regressor = linear_model.LinearRegression()\n",
    "ridge_regressor = linear_model.Ridge(alpha=0.01, fit_intercept=True, max_iter=10000)\n",
    "\n",
    "# Train the model using the training sets\n",
    "linear_regressor.fit(X_train, y_train)\n",
    "ridge_regressor.fit(X_train, y_train)\n",
    "\n",
    "# Predict the output\n",
    "y_test_pred = linear_regressor.predict(X_test)\n",
    "y_test_pred_ridge = ridge_regressor.predict(X_test)"
   ]
  },
  {
   "cell_type": "code",
   "execution_count": 6,
   "id": "0a21c94e-9955-470c-ab78-462badee2c72",
   "metadata": {},
   "outputs": [
    {
     "name": "stdout",
     "output_type": "stream",
     "text": [
      "LINEAR:\n",
      "Mean absolute error = 3.95\n",
      "Mean squared error = 23.15\n",
      "Median absolute error = 3.69\n",
      "Explained variance score = 0.84\n",
      "R2 score = 0.83\n",
      "\n",
      "RIDGE:\n",
      "Mean absolute error = 3.95\n",
      "Mean squared error = 23.15\n",
      "Median absolute error = 3.69\n",
      "Explained variance score = 0.84\n",
      "R2 score = 0.83\n"
     ]
    }
   ],
   "source": [
    "# Measure performance\n",
    "print (\"LINEAR:\")\n",
    "print (\"Mean absolute error =\", round(sm.mean_absolute_error(y_test, y_test_pred), 2))\n",
    "print (\"Mean squared error =\", round(sm.mean_squared_error(y_test, y_test_pred), 2))\n",
    "print (\"Median absolute error =\", round(sm.median_absolute_error(y_test, y_test_pred), 2))\n",
    "print (\"Explained variance score =\", round(sm.explained_variance_score(y_test, y_test_pred), 2))\n",
    "print (\"R2 score =\", round(sm.r2_score(y_test, y_test_pred), 2))\n",
    "\n",
    "print (\"\\nRIDGE:\")\n",
    "print (\"Mean absolute error =\", round(sm.mean_absolute_error(y_test, y_test_pred_ridge), 2))\n",
    "print (\"Mean squared error =\", round(sm.mean_squared_error(y_test, y_test_pred_ridge), 2))\n",
    "print (\"Median absolute error =\", round(sm.median_absolute_error(y_test, y_test_pred_ridge), 2))\n",
    "print (\"Explained variance score =\", round(sm.explained_variance_score(y_test, y_test_pred_ridge), 2))\n",
    "print (\"R2 score =\", round(sm.r2_score(y_test, y_test_pred_ridge), 2))"
   ]
  },
  {
   "cell_type": "code",
   "execution_count": 8,
   "id": "5b4b9086-4b56-4efe-b769-bfd38dea52f0",
   "metadata": {},
   "outputs": [
    {
     "name": "stdout",
     "output_type": "stream",
     "text": [
      "\n",
      "Linear regression:\n",
      " [-11.0587295]\n",
      "\n",
      "Polynomial regression:\n",
      " [-10.94807821]\n",
      "\n",
      "SGD regressor:\n",
      " [-11.62667216]\n"
     ]
    }
   ],
   "source": [
    "# Polynomial regression   多项式回归器\n",
    "polynomial = PolynomialFeatures(degree=3)\n",
    "X_train_transformed = polynomial.fit_transform(X_train)\n",
    "datapoint = [[0.39,2.78,7.11]]\n",
    "poly_datapoint = polynomial.fit_transform(datapoint)\n",
    "\n",
    "poly_linear_model = linear_model.LinearRegression()\n",
    "poly_linear_model.fit(X_train_transformed, y_train)\n",
    "print (\"\\nLinear regression:\\n\", linear_regressor.predict(datapoint))\n",
    "print (\"\\nPolynomial regression:\\n\", poly_linear_model.predict(poly_datapoint))\n",
    "\n",
    "# Stochastic Gradient Descent regressor\n",
    "sgd_regressor = linear_model.SGDRegressor(loss='huber', n_iter_no_change=50)\n",
    "sgd_regressor.fit(X_train, y_train)\n",
    "print (\"\\nSGD regressor:\\n\", sgd_regressor.predict(datapoint))"
   ]
  },
  {
   "cell_type": "code",
   "execution_count": null,
   "id": "c2f7c503-7c37-4254-b044-4c8b29570b08",
   "metadata": {},
   "outputs": [],
   "source": []
  }
 ],
 "metadata": {
  "kernelspec": {
   "display_name": "matrix3",
   "language": "python",
   "name": "matrix3"
  },
  "language_info": {
   "codemirror_mode": {
    "name": "ipython",
    "version": 3
   },
   "file_extension": ".py",
   "mimetype": "text/x-python",
   "name": "python",
   "nbconvert_exporter": "python",
   "pygments_lexer": "ipython3",
   "version": "3.6.13"
  }
 },
 "nbformat": 4,
 "nbformat_minor": 5
}
