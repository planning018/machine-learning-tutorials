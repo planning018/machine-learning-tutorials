{
 "cells": [
  {
   "cell_type": "code",
   "execution_count": 1,
   "id": "3d6dfc55-f6f3-445e-ad46-36c1ea0b0cf2",
   "metadata": {},
   "outputs": [
    {
     "name": "stderr",
     "output_type": "stream",
     "text": [
      "2024-04-10 15:34:02.407863: I tensorflow/tsl/cuda/cudart_stub.cc:28] Could not find cuda drivers on your machine, GPU will not be used.\n",
      "2024-04-10 15:34:02.481023: I tensorflow/tsl/cuda/cudart_stub.cc:28] Could not find cuda drivers on your machine, GPU will not be used.\n",
      "2024-04-10 15:34:03.638466: W tensorflow/compiler/tf2tensorrt/utils/py_utils.cc:38] TF-TRT Warning: Could not find TensorRT\n"
     ]
    }
   ],
   "source": [
    "import tensorflow as tf\n",
    "import numpy as np\n",
    "import tensorflow_util as d2l"
   ]
  },
  {
   "cell_type": "markdown",
   "id": "a86892a5-9ec1-47fa-a2ae-089aeb37933a",
   "metadata": {},
   "source": [
    "### 生成数据集"
   ]
  },
  {
   "cell_type": "code",
   "execution_count": 2,
   "id": "f6a51234-cd9d-4f1b-b5f0-9e58fa9a981d",
   "metadata": {},
   "outputs": [],
   "source": [
    "true_w = tf.constant([2, -3.4])\n",
    "true_b = 4.2\n",
    "features, labels = d2l.synthetic_data(true_w, true_b, 1000)"
   ]
  },
  {
   "cell_type": "markdown",
   "id": "7d83c8d3-d284-418f-be7e-1c3e81880b4a",
   "metadata": {},
   "source": [
    "### 读取数据集"
   ]
  },
  {
   "cell_type": "code",
   "execution_count": 3,
   "id": "b6970cdf-d3f5-4521-a8a6-bbff49914ab6",
   "metadata": {},
   "outputs": [],
   "source": [
    "def load_array(data_arrays, batch_size, is_train=True):\n",
    "    \"\"\"\n",
    "    构造一个 Tensorflow 数据迭代器\n",
    "    \"\"\"\n",
    "    dataset = tf.data.Dataset.from_tensor_slices(data_arrays)\n",
    "    if is_train:\n",
    "        dataset = dataset.shuffle(buffer_size=1000)\n",
    "    dataset = dataset.batch(batch_size)\n",
    "    return dataset\n",
    "\n",
    "batch_size = 10\n",
    "data_iter = load_array((features, labels), batch_size)"
   ]
  },
  {
   "cell_type": "code",
   "execution_count": 4,
   "id": "679c1899-29f0-47df-a1af-2122c17cf568",
   "metadata": {},
   "outputs": [
    {
     "data": {
      "text/plain": [
       "(<tf.Tensor: shape=(10, 2), dtype=float32, numpy=\n",
       " array([[ 2.9869752 ,  0.55253696],\n",
       "        [ 1.0346434 , -1.0987892 ],\n",
       "        [-0.3780557 ,  2.2334092 ],\n",
       "        [-0.56031334, -1.0019677 ],\n",
       "        [-0.0628558 ,  0.40771434],\n",
       "        [ 2.0725393 ,  0.15375224],\n",
       "        [-1.7860249 ,  0.48444983],\n",
       "        [ 0.8200583 , -0.34010103],\n",
       "        [ 0.23255555, -1.6968869 ],\n",
       "        [ 0.7314172 ,  1.2821906 ]], dtype=float32)>,\n",
       " <tf.Tensor: shape=(10, 1), dtype=float32, numpy=\n",
       " array([[ 8.30052  ],\n",
       "        [10.009058 ],\n",
       "        [-4.164083 ],\n",
       "        [ 6.5049553],\n",
       "        [ 2.6908915],\n",
       "        [ 7.82181  ],\n",
       "        [-1.0126827],\n",
       "        [ 6.9919257],\n",
       "        [10.440559 ],\n",
       "        [ 1.2917929]], dtype=float32)>)"
      ]
     },
     "execution_count": 4,
     "metadata": {},
     "output_type": "execute_result"
    }
   ],
   "source": [
    "next(iter(data_iter))"
   ]
  },
  {
   "cell_type": "markdown",
   "id": "7de77f18-c01e-49e7-b990-7b285d2e2bd3",
   "metadata": {},
   "source": [
    "### 定义模型"
   ]
  },
  {
   "cell_type": "code",
   "execution_count": 5,
   "id": "90037d29-1156-47e9-bdfa-02e25fd1b7a4",
   "metadata": {},
   "outputs": [],
   "source": [
    "# Keras 会自动推断每个层输入的形状\n",
    "\n",
    "net = tf.keras.Sequential()\n",
    "net.add(tf.keras.layers.Dense(1))"
   ]
  },
  {
   "cell_type": "markdown",
   "id": "3a678e6b-263a-4b7d-8dae-c37956cbebc5",
   "metadata": {},
   "source": [
    "### 初始化模型参数"
   ]
  },
  {
   "cell_type": "code",
   "execution_count": 6,
   "id": "249051dd-e572-4819-b0e5-817f7d7d5611",
   "metadata": {},
   "outputs": [],
   "source": [
    "initializer = tf.initializers.RandomNormal(stddev=0.01)\n",
    "# 重新创建 net\n",
    "net = tf.keras.Sequential()\n",
    "# 重点：在后端执行时，初始化实际上是 推迟（deferred）执行的，只有在第一次尝试通过网络传递数据时，才会进行真正的初始化\n",
    "net.add(tf.keras.layers.Dense(1, kernel_initializer=initializer))"
   ]
  },
  {
   "cell_type": "markdown",
   "id": "709c2e90-ca3e-4265-8bb0-6a79fd85314f",
   "metadata": {},
   "source": [
    "### 定义损失函数"
   ]
  },
  {
   "cell_type": "code",
   "execution_count": 7,
   "id": "9a6ad233-95e3-47a4-97a0-914f77d28dd3",
   "metadata": {},
   "outputs": [],
   "source": [
    "loss = tf.keras.losses.MeanSquaredError()"
   ]
  },
  {
   "cell_type": "markdown",
   "id": "728e482a-3071-4392-81f3-fe2f9dd847b8",
   "metadata": {},
   "source": [
    "### 定义优化算法"
   ]
  },
  {
   "cell_type": "code",
   "execution_count": 8,
   "id": "e82a85ae-97f6-4c81-a546-97c7a1381416",
   "metadata": {},
   "outputs": [],
   "source": [
    "trainer = tf.keras.optimizers.SGD(learning_rate=0.03)"
   ]
  },
  {
   "cell_type": "markdown",
   "id": "b046066d-659f-4565-b7cf-1bc774703c0b",
   "metadata": {
    "tags": []
   },
   "source": [
    "### 训练"
   ]
  },
  {
   "cell_type": "code",
   "execution_count": 9,
   "id": "f0457997-d4de-49d9-ba4d-97979fcb7391",
   "metadata": {
    "tags": []
   },
   "outputs": [
    {
     "name": "stdout",
     "output_type": "stream",
     "text": [
      "epoch 1, loss 0.000198\n",
      "epoch 2, loss 0.000102\n",
      "epoch 3, loss 0.000102\n"
     ]
    }
   ],
   "source": [
    "num_epochs = 3\n",
    "for epoch in range(num_epochs):\n",
    "    for X,y in data_iter:\n",
    "        with tf.GradientTape() as tape:\n",
    "            l = loss(net(X, training=True), y)\n",
    "        grads = tape.gradient(l, net.trainable_variables)\n",
    "        trainer.apply_gradients(zip(grads, net.trainable_variables))\n",
    "    l = loss(net(features), labels)\n",
    "    print(f'epoch {epoch + 1}, loss {l:f}')"
   ]
  },
  {
   "cell_type": "code",
   "execution_count": 10,
   "id": "f23bb2ff-1251-4375-a707-7f69f152a984",
   "metadata": {},
   "outputs": [
    {
     "name": "stdout",
     "output_type": "stream",
     "text": [
      "w的估计误差:  tf.Tensor([0.00019133 0.00026727], shape=(2,), dtype=float32)\n",
      "b的估计误差:  [0.00067759]\n"
     ]
    }
   ],
   "source": [
    "w = net.get_weights()[0]\n",
    "print('w的估计误差: ', true_w - tf.reshape(w, true_w.shape))\n",
    "b = net.get_weights()[1]\n",
    "print('b的估计误差: ', true_b - b)"
   ]
  },
  {
   "cell_type": "code",
   "execution_count": 11,
   "id": "5dbbaad5-3321-43f7-a260-1c36a35c2579",
   "metadata": {},
   "outputs": [
    {
     "data": {
      "text/plain": [
       "[array([[ 1.9998087],\n",
       "        [-3.4002674]], dtype=float32),\n",
       " array([4.199322], dtype=float32)]"
      ]
     },
     "execution_count": 11,
     "metadata": {},
     "output_type": "execute_result"
    }
   ],
   "source": [
    "net.get_weights()"
   ]
  },
  {
   "cell_type": "code",
   "execution_count": 12,
   "id": "68415503-f4d0-4e0f-9316-24cd3588b050",
   "metadata": {},
   "outputs": [
    {
     "name": "stdout",
     "output_type": "stream",
     "text": [
      "Help on class zip in module builtins:\n",
      "\n",
      "class zip(object)\n",
      " |  zip(*iterables) --> A zip object yielding tuples until an input is exhausted.\n",
      " |  \n",
      " |     >>> list(zip('abcdefg', range(3), range(4)))\n",
      " |     [('a', 0, 0), ('b', 1, 1), ('c', 2, 2)]\n",
      " |  \n",
      " |  The zip object yields n-length tuples, where n is the number of iterables\n",
      " |  passed as positional arguments to zip().  The i-th element in every tuple\n",
      " |  comes from the i-th iterable argument to zip().  This continues until the\n",
      " |  shortest argument is exhausted.\n",
      " |  \n",
      " |  Methods defined here:\n",
      " |  \n",
      " |  __getattribute__(self, name, /)\n",
      " |      Return getattr(self, name).\n",
      " |  \n",
      " |  __iter__(self, /)\n",
      " |      Implement iter(self).\n",
      " |  \n",
      " |  __next__(self, /)\n",
      " |      Implement next(self).\n",
      " |  \n",
      " |  __reduce__(...)\n",
      " |      Return state information for pickling.\n",
      " |  \n",
      " |  ----------------------------------------------------------------------\n",
      " |  Static methods defined here:\n",
      " |  \n",
      " |  __new__(*args, **kwargs) from builtins.type\n",
      " |      Create and return a new object.  See help(type) for accurate signature.\n",
      "\n"
     ]
    }
   ],
   "source": [
    "help(zip)"
   ]
  },
  {
   "cell_type": "code",
   "execution_count": 19,
   "id": "1fd4cccc-d008-489d-af39-0baa428ec299",
   "metadata": {},
   "outputs": [
    {
     "data": {
      "text/plain": [
       "(('john', 'Jenny'), ('Charles', 'Christy'), ('Mike', 'Monica'))"
      ]
     },
     "execution_count": 19,
     "metadata": {},
     "output_type": "execute_result"
    }
   ],
   "source": [
    "a = (\"john\", \"Charles\", \"Mike\")\n",
    "b = (\"Jenny\", \"Christy\", \"Monica\", \"Vicky\")\n",
    "x = zip(a, b)\n",
    "tuple(x)"
   ]
  },
  {
   "cell_type": "code",
   "execution_count": null,
   "id": "d6b739fa-587a-4072-960e-d92ab06dbc0e",
   "metadata": {},
   "outputs": [],
   "source": []
  }
 ],
 "metadata": {
  "kernelspec": {
   "display_name": "tf2.13",
   "language": "python",
   "name": "tf2.13"
  },
  "language_info": {
   "codemirror_mode": {
    "name": "ipython",
    "version": 3
   },
   "file_extension": ".py",
   "mimetype": "text/x-python",
   "name": "python",
   "nbconvert_exporter": "python",
   "pygments_lexer": "ipython3",
   "version": "3.8.17"
  }
 },
 "nbformat": 4,
 "nbformat_minor": 5
}
