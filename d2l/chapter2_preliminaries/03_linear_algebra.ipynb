{
 "cells": [
  {
   "cell_type": "code",
   "execution_count": 1,
   "id": "cada2883-17b2-4a17-a1e9-00067ad53861",
   "metadata": {},
   "outputs": [
    {
     "name": "stderr",
     "output_type": "stream",
     "text": [
      "2024-04-03 16:21:30.172448: I tensorflow/tsl/cuda/cudart_stub.cc:28] Could not find cuda drivers on your machine, GPU will not be used.\n",
      "2024-04-03 16:21:30.260322: I tensorflow/tsl/cuda/cudart_stub.cc:28] Could not find cuda drivers on your machine, GPU will not be used.\n",
      "2024-04-03 16:21:31.503154: W tensorflow/compiler/tf2tensorrt/utils/py_utils.cc:38] TF-TRT Warning: Could not find TensorRT\n"
     ]
    }
   ],
   "source": [
    "import tensorflow as tf"
   ]
  },
  {
   "cell_type": "markdown",
   "id": "cb4dcdf4-9683-4bb4-a714-4f67236fb24e",
   "metadata": {},
   "source": [
    "## 标量"
   ]
  },
  {
   "cell_type": "code",
   "execution_count": 4,
   "id": "285bff39-ecac-414d-846e-66b803057a92",
   "metadata": {},
   "outputs": [],
   "source": [
    "# 仅包含一个数值称为 标量 scalar"
   ]
  },
  {
   "cell_type": "code",
   "execution_count": 5,
   "id": "203fb006-eddb-420d-bc9d-94a192cc69f9",
   "metadata": {},
   "outputs": [
    {
     "data": {
      "text/plain": [
       "(<tf.Tensor: shape=(), dtype=float32, numpy=5.0>,\n",
       " <tf.Tensor: shape=(), dtype=float32, numpy=1.0>,\n",
       " <tf.Tensor: shape=(), dtype=float32, numpy=6.0>,\n",
       " <tf.Tensor: shape=(), dtype=float32, numpy=1.5>,\n",
       " <tf.Tensor: shape=(), dtype=float32, numpy=9.0>)"
      ]
     },
     "execution_count": 5,
     "metadata": {},
     "output_type": "execute_result"
    }
   ],
   "source": [
    "x = tf.constant(3.0)\n",
    "y = tf.constant(2.0)\n",
    "x+y, x-y, x*y, x/y, x**y"
   ]
  },
  {
   "cell_type": "markdown",
   "id": "21d47994-9196-496c-ba57-48727b91bf02",
   "metadata": {},
   "source": [
    "## 向量"
   ]
  },
  {
   "cell_type": "markdown",
   "id": "a75ccf91-c4bd-4f38-8176-c3e8be68866e",
   "metadata": {},
   "source": [
    "标量值组成的列表称为向量"
   ]
  },
  {
   "cell_type": "code",
   "execution_count": 7,
   "id": "f656424d-40a5-46ec-b21f-ce8502c64545",
   "metadata": {},
   "outputs": [
    {
     "data": {
      "text/plain": [
       "<tf.Tensor: shape=(4,), dtype=int32, numpy=array([0, 1, 2, 3], dtype=int32)>"
      ]
     },
     "execution_count": 7,
     "metadata": {},
     "output_type": "execute_result"
    }
   ],
   "source": [
    "x = tf.range(4)\n",
    "x"
   ]
  },
  {
   "cell_type": "markdown",
   "id": "fb04846b-8605-4594-b010-e6f5e12b67d0",
   "metadata": {},
   "source": [
    "列向量是向量的默认方向"
   ]
  },
  {
   "cell_type": "code",
   "execution_count": 9,
   "id": "501e9594-8322-4ae2-9511-bc3f409ccbeb",
   "metadata": {},
   "outputs": [
    {
     "data": {
      "text/plain": [
       "<tf.Tensor: shape=(), dtype=int32, numpy=3>"
      ]
     },
     "execution_count": 9,
     "metadata": {},
     "output_type": "execute_result"
    }
   ],
   "source": [
    "x[3]"
   ]
  },
  {
   "cell_type": "code",
   "execution_count": 12,
   "id": "3a9b8f99-09fe-4133-bc32-7854106609a5",
   "metadata": {},
   "outputs": [
    {
     "data": {
      "text/plain": [
       "4"
      ]
     },
     "execution_count": 12,
     "metadata": {},
     "output_type": "execute_result"
    }
   ],
   "source": [
    "# 长度\n",
    "len(x)"
   ]
  },
  {
   "cell_type": "code",
   "execution_count": 13,
   "id": "b8a13a39-d243-4fb8-8b2a-1c6c9cfb1d9e",
   "metadata": {},
   "outputs": [
    {
     "data": {
      "text/plain": [
       "TensorShape([4])"
      ]
     },
     "execution_count": 13,
     "metadata": {},
     "output_type": "execute_result"
    }
   ],
   "source": [
    "# 形状\n",
    "x.shape"
   ]
  },
  {
   "cell_type": "markdown",
   "id": "edc42bff-91fd-43b8-abb8-c9ea4f99ee8c",
   "metadata": {},
   "source": [
    "## 矩阵"
   ]
  },
  {
   "cell_type": "markdown",
   "id": "8ccd142c-4fad-450e-8a9d-5dd790a97aeb",
   "metadata": {},
   "source": [
    "矩阵把向量丛一阶推到二阶"
   ]
  },
  {
   "cell_type": "code",
   "execution_count": 14,
   "id": "81497e8a-fc24-4b7d-9b8c-ede936805385",
   "metadata": {},
   "outputs": [
    {
     "data": {
      "text/plain": [
       "<tf.Tensor: shape=(3, 4), dtype=int32, numpy=\n",
       "array([[ 0,  1,  2,  3],\n",
       "       [ 4,  5,  6,  7],\n",
       "       [ 8,  9, 10, 11]], dtype=int32)>"
      ]
     },
     "execution_count": 14,
     "metadata": {},
     "output_type": "execute_result"
    }
   ],
   "source": [
    "A = tf.reshape(tf.range(12), (3,4))\n",
    "A"
   ]
  },
  {
   "cell_type": "code",
   "execution_count": 15,
   "id": "28092b95-dfcb-44ac-bc2c-5efd21909384",
   "metadata": {},
   "outputs": [
    {
     "data": {
      "text/plain": [
       "<tf.Tensor: shape=(4, 3), dtype=int32, numpy=\n",
       "array([[ 0,  4,  8],\n",
       "       [ 1,  5,  9],\n",
       "       [ 2,  6, 10],\n",
       "       [ 3,  7, 11]], dtype=int32)>"
      ]
     },
     "execution_count": 15,
     "metadata": {},
     "output_type": "execute_result"
    }
   ],
   "source": [
    "# 转置矩阵\n",
    "tf.transpose(A)"
   ]
  },
  {
   "cell_type": "code",
   "execution_count": 16,
   "id": "12e10fde-6d11-4740-9ffc-dcc007ff8204",
   "metadata": {},
   "outputs": [
    {
     "data": {
      "text/plain": [
       "<tf.Tensor: shape=(3, 3), dtype=int32, numpy=\n",
       "array([[1, 2, 3],\n",
       "       [2, 0, 4],\n",
       "       [3, 4, 5]], dtype=int32)>"
      ]
     },
     "execution_count": 16,
     "metadata": {},
     "output_type": "execute_result"
    }
   ],
   "source": [
    "# 对称矩阵\n",
    "B = tf.constant([[1,2,3], [2,0,4], [3,4,5]])\n",
    "B"
   ]
  },
  {
   "cell_type": "code",
   "execution_count": 18,
   "id": "3b8eeff6-5575-4d55-a4a4-f7b8ffc90f53",
   "metadata": {},
   "outputs": [
    {
     "data": {
      "text/plain": [
       "<tf.Tensor: shape=(3, 3), dtype=bool, numpy=\n",
       "array([[ True,  True,  True],\n",
       "       [ True,  True,  True],\n",
       "       [ True,  True,  True]])>"
      ]
     },
     "execution_count": 18,
     "metadata": {},
     "output_type": "execute_result"
    }
   ],
   "source": [
    "B == tf.transpose(B)"
   ]
  },
  {
   "cell_type": "markdown",
   "id": "ceacf2e7-d830-407a-84f2-5dfb6bd2f828",
   "metadata": {},
   "source": [
    "## 张量"
   ]
  },
  {
   "cell_type": "markdown",
   "id": "1a024410-496d-4be8-b5ad-a6b8245100af",
   "metadata": {},
   "source": [
    "具有任意数量轴的 N 维数组叫做张量"
   ]
  },
  {
   "cell_type": "code",
   "execution_count": 19,
   "id": "1c23bf65-fdae-417d-ade1-8474cae17bb9",
   "metadata": {},
   "outputs": [
    {
     "data": {
      "text/plain": [
       "<tf.Tensor: shape=(2, 3, 4), dtype=int32, numpy=\n",
       "array([[[ 0,  1,  2,  3],\n",
       "        [ 4,  5,  6,  7],\n",
       "        [ 8,  9, 10, 11]],\n",
       "\n",
       "       [[12, 13, 14, 15],\n",
       "        [16, 17, 18, 19],\n",
       "        [20, 21, 22, 23]]], dtype=int32)>"
      ]
     },
     "execution_count": 19,
     "metadata": {},
     "output_type": "execute_result"
    }
   ],
   "source": [
    "X = tf.reshape(tf.range(24), (2,3,4))\n",
    "X"
   ]
  },
  {
   "cell_type": "markdown",
   "id": "c516c192-969c-445b-8219-732ae3b3bde0",
   "metadata": {},
   "source": [
    "## 张量算法的基本特性"
   ]
  },
  {
   "cell_type": "markdown",
   "id": "ad40ab57-da3f-40f0-81c2-454e9948a2d3",
   "metadata": {},
   "source": [
    "任何按元素二元运算的结果都将是相同形状的张量"
   ]
  },
  {
   "cell_type": "code",
   "execution_count": 22,
   "id": "949dd82e-9e1a-4cc1-8d1e-a9e971150772",
   "metadata": {},
   "outputs": [
    {
     "data": {
      "text/plain": [
       "(<tf.Tensor: shape=(5, 4), dtype=float32, numpy=\n",
       " array([[ 0.,  1.,  2.,  3.],\n",
       "        [ 4.,  5.,  6.,  7.],\n",
       "        [ 8.,  9., 10., 11.],\n",
       "        [12., 13., 14., 15.],\n",
       "        [16., 17., 18., 19.]], dtype=float32)>,\n",
       " <tf.Tensor: shape=(5, 4), dtype=float32, numpy=\n",
       " array([[ 0.,  2.,  4.,  6.],\n",
       "        [ 8., 10., 12., 14.],\n",
       "        [16., 18., 20., 22.],\n",
       "        [24., 26., 28., 30.],\n",
       "        [32., 34., 36., 38.]], dtype=float32)>)"
      ]
     },
     "execution_count": 22,
     "metadata": {},
     "output_type": "execute_result"
    }
   ],
   "source": [
    "A = tf.reshape(tf.range(20, dtype=tf.float32), (5,4))\n",
    "B = A\n",
    "A, A+B"
   ]
  },
  {
   "cell_type": "code",
   "execution_count": 23,
   "id": "3e3f7dda-d927-4769-9c90-811168deb59f",
   "metadata": {},
   "outputs": [
    {
     "data": {
      "text/plain": [
       "<tf.Tensor: shape=(5, 4), dtype=float32, numpy=\n",
       "array([[  0.,   1.,   4.,   9.],\n",
       "       [ 16.,  25.,  36.,  49.],\n",
       "       [ 64.,  81., 100., 121.],\n",
       "       [144., 169., 196., 225.],\n",
       "       [256., 289., 324., 361.]], dtype=float32)>"
      ]
     },
     "execution_count": 23,
     "metadata": {},
     "output_type": "execute_result"
    }
   ],
   "source": [
    "# 两个矩阵的按元素乘法称为 Hadamard 积\n",
    "A * B"
   ]
  },
  {
   "cell_type": "markdown",
   "id": "020aa28c-6433-4c0f-aa8e-68ec00456569",
   "metadata": {},
   "source": [
    "将张量乘以或者加上一个标量不会改变张量的形状"
   ]
  },
  {
   "cell_type": "code",
   "execution_count": 28,
   "id": "6eedaeed-9cc7-4870-969f-6e6574153904",
   "metadata": {},
   "outputs": [
    {
     "data": {
      "text/plain": [
       "(<tf.Tensor: shape=(3, 4), dtype=int32, numpy=\n",
       " array([[ 2,  3,  4,  5],\n",
       "        [ 6,  7,  8,  9],\n",
       "        [10, 11, 12, 13]], dtype=int32)>,\n",
       " TensorShape([3, 4]))"
      ]
     },
     "execution_count": 28,
     "metadata": {},
     "output_type": "execute_result"
    }
   ],
   "source": [
    "a = 2\n",
    "X = tf.reshape(tf.range(12), (3,4))\n",
    "a + X, (a * X).shape"
   ]
  },
  {
   "cell_type": "markdown",
   "id": "df4ca3ba-1bd2-4f16-ab3c-a7081065ab02",
   "metadata": {},
   "source": [
    "## 降维"
   ]
  },
  {
   "cell_type": "code",
   "execution_count": 29,
   "id": "5f0e531f-32ed-4f45-a377-545e326f9ff1",
   "metadata": {},
   "outputs": [
    {
     "data": {
      "text/plain": [
       "(<tf.Tensor: shape=(3, 4), dtype=int32, numpy=\n",
       " array([[ 0,  1,  2,  3],\n",
       "        [ 4,  5,  6,  7],\n",
       "        [ 8,  9, 10, 11]], dtype=int32)>,\n",
       " <tf.Tensor: shape=(), dtype=int32, numpy=66>)"
      ]
     },
     "execution_count": 29,
     "metadata": {},
     "output_type": "execute_result"
    }
   ],
   "source": [
    "# 求和\n",
    "X = tf.reshape(tf.range(12), (3,4))\n",
    "X, tf.reduce_sum(X)"
   ]
  },
  {
   "cell_type": "markdown",
   "id": "09eaa938-c78c-4d97-8e08-af7cd086865e",
   "metadata": {},
   "source": [
    "默认情况下，调用求和函数 `sum()` 会沿着所有的轴降低张量的维度，使它变成一个标量。  \n",
    "我们也可以通过指定张量沿着某一个轴来通过求和降低维度。"
   ]
  },
  {
   "cell_type": "code",
   "execution_count": 31,
   "id": "9b092afe-314a-4a6d-af47-20543b2d95a8",
   "metadata": {},
   "outputs": [
    {
     "data": {
      "text/plain": [
       "(<tf.Tensor: shape=(4,), dtype=int32, numpy=array([12, 15, 18, 21], dtype=int32)>,\n",
       " TensorShape([4]))"
      ]
     },
     "execution_count": 31,
     "metadata": {},
     "output_type": "execute_result"
    }
   ],
   "source": [
    "X_sum_axia0 = tf.reduce_sum(X, axis=0)\n",
    "X_sum_axia0, X_sum_axia0.shape"
   ]
  },
  {
   "cell_type": "code",
   "execution_count": 34,
   "id": "1b371eed-309e-4add-8b69-72d00b345573",
   "metadata": {},
   "outputs": [
    {
     "data": {
      "text/plain": [
       "(<tf.Tensor: shape=(3,), dtype=int32, numpy=array([ 6, 22, 38], dtype=int32)>,\n",
       " TensorShape([3]))"
      ]
     },
     "execution_count": 34,
     "metadata": {},
     "output_type": "execute_result"
    }
   ],
   "source": [
    "# 沿哪个轴降维，哪个轴就从输出形状中消失\n",
    "\n",
    "X_sum_axia1 = tf.reduce_sum(X, axis=1)\n",
    "X_sum_axia1, X_sum_axia1.shape"
   ]
  },
  {
   "cell_type": "code",
   "execution_count": 35,
   "id": "a94928b8-b759-4927-96d3-9d81e809ad41",
   "metadata": {},
   "outputs": [
    {
     "data": {
      "text/plain": [
       "<tf.Tensor: shape=(), dtype=int32, numpy=66>"
      ]
     },
     "execution_count": 35,
     "metadata": {},
     "output_type": "execute_result"
    }
   ],
   "source": [
    "# 和 tf.reduce_sum(A) 一样\n",
    "tf.reduce_sum(X, axis=[0,1])"
   ]
  },
  {
   "cell_type": "code",
   "execution_count": 38,
   "id": "02538236-618f-4d6c-b5ac-214ae39e25bc",
   "metadata": {},
   "outputs": [
    {
     "data": {
      "text/plain": [
       "(<tf.Tensor: shape=(), dtype=float32, numpy=9.5>,\n",
       " <tf.Tensor: shape=(), dtype=float32, numpy=9.5>)"
      ]
     },
     "execution_count": 38,
     "metadata": {},
     "output_type": "execute_result"
    }
   ],
   "source": [
    "# 求平均值\n",
    "tf.reduce_mean(A), tf.reduce_sum(A) / tf.size(A).numpy()"
   ]
  },
  {
   "cell_type": "code",
   "execution_count": 39,
   "id": "763c3375-d9ae-4a15-8073-6d9e853dca5f",
   "metadata": {},
   "outputs": [
    {
     "data": {
      "text/plain": [
       "(<tf.Tensor: shape=(4,), dtype=float32, numpy=array([ 8.,  9., 10., 11.], dtype=float32)>,\n",
       " <tf.Tensor: shape=(4,), dtype=float32, numpy=array([ 8.,  9., 10., 11.], dtype=float32)>)"
      ]
     },
     "execution_count": 39,
     "metadata": {},
     "output_type": "execute_result"
    }
   ],
   "source": [
    "# 求平均值也可以沿指定轴降低张量的维度\n",
    "tf.reduce_mean(A, axis=0), tf.reduce_sum(A, axis=0) / A.shape[0]"
   ]
  },
  {
   "cell_type": "code",
   "execution_count": 40,
   "id": "521042ab-9987-40b8-9424-56207a403d43",
   "metadata": {},
   "outputs": [
    {
     "data": {
      "text/plain": [
       "<tf.Tensor: shape=(5, 4), dtype=float32, numpy=\n",
       "array([[ 0.,  1.,  2.,  3.],\n",
       "       [ 4.,  5.,  6.,  7.],\n",
       "       [ 8.,  9., 10., 11.],\n",
       "       [12., 13., 14., 15.],\n",
       "       [16., 17., 18., 19.]], dtype=float32)>"
      ]
     },
     "execution_count": 40,
     "metadata": {},
     "output_type": "execute_result"
    }
   ],
   "source": [
    "A"
   ]
  },
  {
   "cell_type": "markdown",
   "id": "88628a08-3fe9-462a-a199-5e7cd533718e",
   "metadata": {},
   "source": [
    "### 非降维求和"
   ]
  },
  {
   "cell_type": "code",
   "execution_count": 42,
   "id": "36f365fe-d719-4b30-9cc3-0b0d55f7a8e5",
   "metadata": {},
   "outputs": [
    {
     "data": {
      "text/plain": [
       "<tf.Tensor: shape=(5, 1), dtype=float32, numpy=\n",
       "array([[ 6.],\n",
       "       [22.],\n",
       "       [38.],\n",
       "       [54.],\n",
       "       [70.]], dtype=float32)>"
      ]
     },
     "execution_count": 42,
     "metadata": {},
     "output_type": "execute_result"
    }
   ],
   "source": [
    "# 沿着列，对每行求和后，依然保持两个轴\n",
    "sum_A = tf.reduce_sum(A, axis=1, keepdims=True)\n",
    "sum_A"
   ]
  },
  {
   "cell_type": "code",
   "execution_count": 43,
   "id": "2c27f5f8-539d-4393-a248-689e4eff335f",
   "metadata": {},
   "outputs": [
    {
     "data": {
      "text/plain": [
       "<tf.Tensor: shape=(5, 4), dtype=float32, numpy=\n",
       "array([[0.        , 0.16666667, 0.33333334, 0.5       ],\n",
       "       [0.18181819, 0.22727273, 0.27272728, 0.3181818 ],\n",
       "       [0.21052632, 0.23684211, 0.2631579 , 0.28947368],\n",
       "       [0.22222222, 0.24074075, 0.25925925, 0.2777778 ],\n",
       "       [0.22857143, 0.24285714, 0.25714287, 0.27142859]], dtype=float32)>"
      ]
     },
     "execution_count": 43,
     "metadata": {},
     "output_type": "execute_result"
    }
   ],
   "source": [
    "A / sum_A"
   ]
  },
  {
   "cell_type": "code",
   "execution_count": 44,
   "id": "a517ffb7-4c99-4895-8d12-fba49c9bab38",
   "metadata": {},
   "outputs": [
    {
     "data": {
      "text/plain": [
       "<tf.Tensor: shape=(5, 4), dtype=float32, numpy=\n",
       "array([[ 0.,  1.,  2.,  3.],\n",
       "       [ 4.,  6.,  8., 10.],\n",
       "       [12., 15., 18., 21.],\n",
       "       [24., 28., 32., 36.],\n",
       "       [40., 45., 50., 55.]], dtype=float32)>"
      ]
     },
     "execution_count": 44,
     "metadata": {},
     "output_type": "execute_result"
    }
   ],
   "source": [
    "# axis=0 按行计算，累积综合\n",
    "tf.cumsum(A, axis=0)"
   ]
  },
  {
   "cell_type": "markdown",
   "id": "ce63d310-08b8-4d8f-84e5-e0030d8eb099",
   "metadata": {},
   "source": [
    "## 点积"
   ]
  },
  {
   "cell_type": "code",
   "execution_count": 48,
   "id": "99f543c1-e9d4-4af1-b109-f87714fe4a9c",
   "metadata": {},
   "outputs": [
    {
     "data": {
      "text/plain": [
       "(<tf.Tensor: shape=(4,), dtype=float32, numpy=array([0., 1., 2., 3.], dtype=float32)>,\n",
       " <tf.Tensor: shape=(4,), dtype=float32, numpy=array([1., 1., 1., 1.], dtype=float32)>)"
      ]
     },
     "execution_count": 48,
     "metadata": {},
     "output_type": "execute_result"
    }
   ],
   "source": [
    "x = tf.range(4, dtype=tf.float32)\n",
    "y = tf.ones(4, dtype=tf.float32)\n",
    "x,y"
   ]
  },
  {
   "cell_type": "code",
   "execution_count": 49,
   "id": "da4fdeae-34c4-48f1-b463-835cce4323eb",
   "metadata": {},
   "outputs": [
    {
     "data": {
      "text/plain": [
       "<tf.Tensor: shape=(), dtype=float32, numpy=6.0>"
      ]
     },
     "execution_count": 49,
     "metadata": {},
     "output_type": "execute_result"
    }
   ],
   "source": [
    "tf.tensordot(x, y, axes=1)"
   ]
  },
  {
   "cell_type": "code",
   "execution_count": 50,
   "id": "de591500-ec55-4933-8085-f0f51c09b3d4",
   "metadata": {},
   "outputs": [
    {
     "data": {
      "text/plain": [
       "<tf.Tensor: shape=(), dtype=float32, numpy=6.0>"
      ]
     },
     "execution_count": 50,
     "metadata": {},
     "output_type": "execute_result"
    }
   ],
   "source": [
    "tf.reduce_sum(x * y)"
   ]
  },
  {
   "cell_type": "markdown",
   "id": "f16bdbb6-068b-4087-bc19-f0458c660031",
   "metadata": {},
   "source": [
    "## 矩阵 - 向量积"
   ]
  },
  {
   "cell_type": "code",
   "execution_count": 51,
   "id": "e30d7ad7-2cb5-40f8-9bde-0cd52a8e28be",
   "metadata": {},
   "outputs": [
    {
     "data": {
      "text/plain": [
       "TensorShape([5, 4])"
      ]
     },
     "execution_count": 51,
     "metadata": {},
     "output_type": "execute_result"
    }
   ],
   "source": [
    "A.shape"
   ]
  },
  {
   "cell_type": "code",
   "execution_count": 52,
   "id": "11cedc04-4c6f-4ada-b478-7a0a09fe3ced",
   "metadata": {},
   "outputs": [
    {
     "data": {
      "text/plain": [
       "TensorShape([4])"
      ]
     },
     "execution_count": 52,
     "metadata": {},
     "output_type": "execute_result"
    }
   ],
   "source": [
    "x.shape"
   ]
  },
  {
   "cell_type": "code",
   "execution_count": 54,
   "id": "c18f4f21-7e8c-43c1-a8ee-151ef0a4278e",
   "metadata": {},
   "outputs": [
    {
     "data": {
      "text/plain": [
       "<tf.Tensor: shape=(5,), dtype=float32, numpy=array([ 14.,  38.,  62.,  86., 110.], dtype=float32)>"
      ]
     },
     "execution_count": 54,
     "metadata": {},
     "output_type": "execute_result"
    }
   ],
   "source": [
    "# A 的列维数（沿轴1的长度）必须与 x 的维数（其长度）相同\n",
    "tf.linalg.matvec(A, x)"
   ]
  },
  {
   "cell_type": "markdown",
   "id": "f336ca58-c533-48cb-9a1e-ce0aea7974a8",
   "metadata": {},
   "source": [
    "## 矩阵 - 矩阵乘法"
   ]
  },
  {
   "cell_type": "code",
   "execution_count": 56,
   "id": "03a90458-39c4-4c66-a60c-e280c01d5944",
   "metadata": {},
   "outputs": [
    {
     "data": {
      "text/plain": [
       "<tf.Tensor: shape=(5, 3), dtype=float32, numpy=\n",
       "array([[ 6.,  6.,  6.],\n",
       "       [22., 22., 22.],\n",
       "       [38., 38., 38.],\n",
       "       [54., 54., 54.],\n",
       "       [70., 70., 70.]], dtype=float32)>"
      ]
     },
     "execution_count": 56,
     "metadata": {},
     "output_type": "execute_result"
    }
   ],
   "source": [
    "B = tf.ones((4,3), tf.float32)\n",
    "tf.matmul(A, B)"
   ]
  },
  {
   "cell_type": "markdown",
   "id": "1c158ebe-29b4-4224-b875-560c5834f6e2",
   "metadata": {},
   "source": [
    "## 范数"
   ]
  },
  {
   "cell_type": "markdown",
   "id": "f40d9797-7690-4b59-9774-d7f67e989be1",
   "metadata": {},
   "source": [
    "向量的范数是表示一个向量有多大，求平方和开根号"
   ]
  },
  {
   "cell_type": "code",
   "execution_count": 58,
   "id": "1e8a9c45-43df-4c8f-a42b-39d16e20cc8e",
   "metadata": {},
   "outputs": [
    {
     "data": {
      "text/plain": [
       "<tf.Tensor: shape=(), dtype=float32, numpy=5.0>"
      ]
     },
     "execution_count": 58,
     "metadata": {},
     "output_type": "execute_result"
    }
   ],
   "source": [
    "u = tf.constant([3.0, -4.0])\n",
    "# L2 范数\n",
    "tf.norm(u)"
   ]
  },
  {
   "cell_type": "code",
   "execution_count": 59,
   "id": "d6757b01-7c17-41d2-9273-bd2ea6f134ff",
   "metadata": {},
   "outputs": [
    {
     "data": {
      "text/plain": [
       "<tf.Tensor: shape=(), dtype=float32, numpy=7.0>"
      ]
     },
     "execution_count": 59,
     "metadata": {},
     "output_type": "execute_result"
    }
   ],
   "source": [
    "# L1 范数：绝对值函数求和\n",
    "tf.reduce_sum(tf.abs(u))"
   ]
  },
  {
   "cell_type": "code",
   "execution_count": 60,
   "id": "7ba79f35-c85e-42d5-87c7-d5784197a8fd",
   "metadata": {},
   "outputs": [],
   "source": [
    "# 与 L2 范数相比，L1 范数受异常值的影响较小"
   ]
  },
  {
   "cell_type": "code",
   "execution_count": 61,
   "id": "83da8e3f-53ee-45a4-b8a1-c927664d5a35",
   "metadata": {},
   "outputs": [
    {
     "data": {
      "text/plain": [
       "<tf.Tensor: shape=(), dtype=float32, numpy=6.0>"
      ]
     },
     "execution_count": 61,
     "metadata": {},
     "output_type": "execute_result"
    }
   ],
   "source": [
    "# Frobenius 范数\n",
    "tf.norm(tf.ones((4, 9)))"
   ]
  },
  {
   "cell_type": "markdown",
   "id": "b8dd959b-611e-492f-ac20-c65e1447db8b",
   "metadata": {},
   "source": [
    "## 练习"
   ]
  },
  {
   "cell_type": "code",
   "execution_count": 62,
   "id": "47437323-281a-4e9c-9b7a-6be171ba8487",
   "metadata": {},
   "outputs": [],
   "source": [
    "# 1. 证明一个矩阵 A 的转置的转置是 A"
   ]
  },
  {
   "cell_type": "code",
   "execution_count": 63,
   "id": "248e5e9a-becb-4f99-889c-23fe428e7ab8",
   "metadata": {},
   "outputs": [
    {
     "data": {
      "text/plain": [
       "<tf.Tensor: shape=(3, 4), dtype=int32, numpy=\n",
       "array([[ 0,  1,  2,  3],\n",
       "       [ 4,  5,  6,  7],\n",
       "       [ 8,  9, 10, 11]], dtype=int32)>"
      ]
     },
     "execution_count": 63,
     "metadata": {},
     "output_type": "execute_result"
    }
   ],
   "source": [
    "A1 = tf.reshape(tf.range(12), (3,4))\n",
    "A1"
   ]
  },
  {
   "cell_type": "code",
   "execution_count": 64,
   "id": "bee270b3-2735-4920-a634-5ff560bde9d9",
   "metadata": {},
   "outputs": [
    {
     "data": {
      "text/plain": [
       "<tf.Tensor: shape=(3, 4), dtype=int32, numpy=\n",
       "array([[ 0,  1,  2,  3],\n",
       "       [ 4,  5,  6,  7],\n",
       "       [ 8,  9, 10, 11]], dtype=int32)>"
      ]
     },
     "execution_count": 64,
     "metadata": {},
     "output_type": "execute_result"
    }
   ],
   "source": [
    "A1_t = tf.transpose(A1)\n",
    "tf.transpose(A1_t)"
   ]
  },
  {
   "cell_type": "code",
   "execution_count": 65,
   "id": "ce14d698-fe53-4b31-877e-dee345bd6761",
   "metadata": {},
   "outputs": [],
   "source": [
    "# 2. 给出两个矩阵A和B，证明 “它们转置的和” 等于 “它们和的转置”"
   ]
  },
  {
   "cell_type": "code",
   "execution_count": 66,
   "id": "a7a8464a-fdd4-4de5-bf84-4ba3ba9e4d35",
   "metadata": {},
   "outputs": [
    {
     "data": {
      "text/plain": [
       "(<tf.Tensor: shape=(3, 4), dtype=int32, numpy=\n",
       " array([[ 0,  1,  2,  3],\n",
       "        [ 4,  5,  6,  7],\n",
       "        [ 8,  9, 10, 11]], dtype=int32)>,\n",
       " <tf.Tensor: shape=(3, 1), dtype=int32, numpy=\n",
       " array([[0],\n",
       "        [1],\n",
       "        [2]], dtype=int32)>)"
      ]
     },
     "execution_count": 66,
     "metadata": {},
     "output_type": "execute_result"
    }
   ],
   "source": [
    "A = tf.reshape(tf.range(12), (3,4))\n",
    "B = tf.reshape(tf.range(3), (3,1))\n",
    "A, B"
   ]
  },
  {
   "cell_type": "code",
   "execution_count": 67,
   "id": "420c0620-9b0c-420e-9813-d4294cc0e401",
   "metadata": {},
   "outputs": [
    {
     "data": {
      "text/plain": [
       "<tf.Tensor: shape=(4, 3), dtype=bool, numpy=\n",
       "array([[ True,  True,  True],\n",
       "       [ True,  True,  True],\n",
       "       [ True,  True,  True],\n",
       "       [ True,  True,  True]])>"
      ]
     },
     "execution_count": 67,
     "metadata": {},
     "output_type": "execute_result"
    }
   ],
   "source": [
    "tf.transpose(A) + tf.transpose(B) == tf.transpose(A+B)"
   ]
  },
  {
   "cell_type": "code",
   "execution_count": 68,
   "id": "694f8ca2-534a-401b-9a41-332f90bd40a2",
   "metadata": {},
   "outputs": [],
   "source": [
    "# 3. 给定任意方阵 A， A + A 的转置 总是对称的吗？为什么？"
   ]
  },
  {
   "cell_type": "code",
   "execution_count": 70,
   "id": "ccbb6f12-07c6-4470-a489-7b335da26673",
   "metadata": {},
   "outputs": [
    {
     "data": {
      "text/plain": [
       "(<tf.Tensor: shape=(3, 4), dtype=int32, numpy=\n",
       " array([[ 0,  1,  2,  3],\n",
       "        [ 4,  5,  6,  7],\n",
       "        [ 8,  9, 10, 11]], dtype=int32)>,\n",
       " <tf.Tensor: shape=(4, 3), dtype=int32, numpy=\n",
       " array([[ 0,  4,  8],\n",
       "        [ 1,  5,  9],\n",
       "        [ 2,  6, 10],\n",
       "        [ 3,  7, 11]], dtype=int32)>)"
      ]
     },
     "execution_count": 70,
     "metadata": {},
     "output_type": "execute_result"
    }
   ],
   "source": [
    "A, tf.transpose(A)"
   ]
  },
  {
   "cell_type": "code",
   "execution_count": 71,
   "id": "c6d42c74-793a-4b01-81bb-182927bc0282",
   "metadata": {},
   "outputs": [],
   "source": [
    "# 4. 本节中定义了形状 (2,3,4) 的张量 X。len(X) 的输出结果是什么？"
   ]
  },
  {
   "cell_type": "code",
   "execution_count": 72,
   "id": "8c262876-f8e2-4ddf-97e0-13d459d5a612",
   "metadata": {},
   "outputs": [
    {
     "data": {
      "text/plain": [
       "2"
      ]
     },
     "execution_count": 72,
     "metadata": {},
     "output_type": "execute_result"
    }
   ],
   "source": [
    "X = tf.reshape(tf.range(24), (2,3,4))\n",
    "len(X)"
   ]
  },
  {
   "cell_type": "code",
   "execution_count": 73,
   "id": "9325abf4-efc6-4f6f-a727-83dd75fca799",
   "metadata": {},
   "outputs": [],
   "source": [
    "# 5. 对于任意形状的张量 X，len(X) 是否总是对应于 X特定轴的长度？这个轴是什么？"
   ]
  },
  {
   "cell_type": "code",
   "execution_count": 77,
   "id": "a18c4bb8-4b9a-4ee4-869b-839dab8667c9",
   "metadata": {},
   "outputs": [],
   "source": [
    "# 固定输出 轴 0 的长度"
   ]
  },
  {
   "cell_type": "code",
   "execution_count": 74,
   "id": "eb3d6427-9659-419f-a3af-0085b06262da",
   "metadata": {},
   "outputs": [],
   "source": [
    "# 6. 运行 A/A.sum(axis=1), 看看会发生什么。分析一下原因"
   ]
  },
  {
   "cell_type": "code",
   "execution_count": 76,
   "id": "bb9f45a7-da69-44c7-85b4-23b889640d3f",
   "metadata": {},
   "outputs": [
    {
     "ename": "AttributeError",
     "evalue": "'tensorflow.python.framework.ops.EagerTensor' object has no attribute 'sum'",
     "output_type": "error",
     "traceback": [
      "\u001b[0;31m---------------------------------------------------------------------------\u001b[0m",
      "\u001b[0;31mAttributeError\u001b[0m                            Traceback (most recent call last)",
      "Cell \u001b[0;32mIn[76], line 2\u001b[0m\n\u001b[1;32m      1\u001b[0m A \u001b[38;5;241m=\u001b[39m tf\u001b[38;5;241m.\u001b[39mreshape(tf\u001b[38;5;241m.\u001b[39mrange(\u001b[38;5;241m20\u001b[39m, dtype\u001b[38;5;241m=\u001b[39mtf\u001b[38;5;241m.\u001b[39mfloat32), (\u001b[38;5;241m5\u001b[39m,\u001b[38;5;241m4\u001b[39m))\n\u001b[0;32m----> 2\u001b[0m A \u001b[38;5;241m/\u001b[39m \u001b[43mA\u001b[49m\u001b[38;5;241;43m.\u001b[39;49m\u001b[43msum\u001b[49m(axis\u001b[38;5;241m=\u001b[39m\u001b[38;5;241m1\u001b[39m)\n",
      "File \u001b[0;32m/home/ops/miniconda3/envs/tf2.13/lib/python3.8/site-packages/tensorflow/python/framework/ops.py:430\u001b[0m, in \u001b[0;36mTensor.__getattr__\u001b[0;34m(self, name)\u001b[0m\n\u001b[1;32m    421\u001b[0m \u001b[38;5;28;01mif\u001b[39;00m name \u001b[38;5;129;01min\u001b[39;00m {\u001b[38;5;124m\"\u001b[39m\u001b[38;5;124mT\u001b[39m\u001b[38;5;124m\"\u001b[39m, \u001b[38;5;124m\"\u001b[39m\u001b[38;5;124mastype\u001b[39m\u001b[38;5;124m\"\u001b[39m, \u001b[38;5;124m\"\u001b[39m\u001b[38;5;124mravel\u001b[39m\u001b[38;5;124m\"\u001b[39m, \u001b[38;5;124m\"\u001b[39m\u001b[38;5;124mtranspose\u001b[39m\u001b[38;5;124m\"\u001b[39m, \u001b[38;5;124m\"\u001b[39m\u001b[38;5;124mreshape\u001b[39m\u001b[38;5;124m\"\u001b[39m, \u001b[38;5;124m\"\u001b[39m\u001b[38;5;124mclip\u001b[39m\u001b[38;5;124m\"\u001b[39m, \u001b[38;5;124m\"\u001b[39m\u001b[38;5;124msize\u001b[39m\u001b[38;5;124m\"\u001b[39m,\n\u001b[1;32m    422\u001b[0m             \u001b[38;5;124m\"\u001b[39m\u001b[38;5;124mtolist\u001b[39m\u001b[38;5;124m\"\u001b[39m, \u001b[38;5;124m\"\u001b[39m\u001b[38;5;124mdata\u001b[39m\u001b[38;5;124m\"\u001b[39m}:\n\u001b[1;32m    423\u001b[0m   \u001b[38;5;66;03m# TODO(wangpeng): Export the enable_numpy_behavior knob\u001b[39;00m\n\u001b[1;32m    424\u001b[0m   \u001b[38;5;28;01mraise\u001b[39;00m \u001b[38;5;167;01mAttributeError\u001b[39;00m(\n\u001b[1;32m    425\u001b[0m       \u001b[38;5;124mf\u001b[39m\u001b[38;5;124m\"\u001b[39m\u001b[38;5;132;01m{\u001b[39;00m\u001b[38;5;28mtype\u001b[39m(\u001b[38;5;28mself\u001b[39m)\u001b[38;5;241m.\u001b[39m\u001b[38;5;18m__name__\u001b[39m\u001b[38;5;132;01m}\u001b[39;00m\u001b[38;5;124m object has no attribute \u001b[39m\u001b[38;5;124m'\u001b[39m\u001b[38;5;132;01m{\u001b[39;00mname\u001b[38;5;132;01m}\u001b[39;00m\u001b[38;5;124m'\u001b[39m\u001b[38;5;124m. \u001b[39m\u001b[38;5;124m\"\u001b[39m \u001b[38;5;241m+\u001b[39m \u001b[38;5;124m\"\"\"\u001b[39m\n\u001b[1;32m    426\u001b[0m \u001b[38;5;124m    If you are looking for numpy-related methods, please run the following:\u001b[39m\n\u001b[1;32m    427\u001b[0m \u001b[38;5;124m    from tensorflow.python.ops.numpy_ops import np_config\u001b[39m\n\u001b[1;32m    428\u001b[0m \u001b[38;5;124m    np_config.enable_numpy_behavior()\u001b[39m\n\u001b[1;32m    429\u001b[0m \u001b[38;5;124m  \u001b[39m\u001b[38;5;124m\"\"\"\u001b[39m)\n\u001b[0;32m--> 430\u001b[0m \u001b[38;5;28;43mself\u001b[39;49m\u001b[38;5;241;43m.\u001b[39;49m\u001b[38;5;21;43m__getattribute__\u001b[39;49m\u001b[43m(\u001b[49m\u001b[43mname\u001b[49m\u001b[43m)\u001b[49m\n",
      "\u001b[0;31mAttributeError\u001b[0m: 'tensorflow.python.framework.ops.EagerTensor' object has no attribute 'sum'"
     ]
    }
   ],
   "source": [
    "A = tf.reshape(tf.range(20, dtype=tf.float32), (5,4))\n",
    "A / A.sum(axis=1)"
   ]
  },
  {
   "cell_type": "code",
   "execution_count": 78,
   "id": "18bf716d-c9ca-4698-879c-108d66676d12",
   "metadata": {},
   "outputs": [],
   "source": [
    "# 7. 考虑一个具有形状 (2,3,4) 的张量，在轴 0、1、2 上的求和输出是什么形状？"
   ]
  },
  {
   "cell_type": "code",
   "execution_count": 79,
   "id": "8e04437a-6cd5-40ca-9276-9f4d24c548ad",
   "metadata": {},
   "outputs": [
    {
     "data": {
      "text/plain": [
       "(TensorShape([3, 4]), TensorShape([2, 4]), TensorShape([2, 3]))"
      ]
     },
     "execution_count": 79,
     "metadata": {},
     "output_type": "execute_result"
    }
   ],
   "source": [
    "X = tf.ones((2,3,4))\n",
    "X_0 = tf.reduce_sum(X, axis=0)\n",
    "X_1 = tf.reduce_sum(X, axis=1)\n",
    "X_2 = tf.reduce_sum(X, axis=2)\n",
    "X_0.shape, X_1.shape, X_2.shape"
   ]
  },
  {
   "cell_type": "code",
   "execution_count": 80,
   "id": "5ef96b37-7be1-4c5c-8981-a129f5b4d7ec",
   "metadata": {},
   "outputs": [],
   "source": [
    "# 8. 为linalg.norm函数提供3个或更多轴的张量，并观察其输出。对于任意形状的张量这个函数计算得到什么?"
   ]
  },
  {
   "cell_type": "code",
   "execution_count": 83,
   "id": "e00dd7f4-cc27-4e45-8928-b43b295b078f",
   "metadata": {},
   "outputs": [
    {
     "data": {
      "text/plain": [
       "<tf.Tensor: shape=(), dtype=float32, numpy=8.0>"
      ]
     },
     "execution_count": 83,
     "metadata": {},
     "output_type": "execute_result"
    }
   ],
   "source": [
    "tf.norm(tf.ones((4, 4, 4)))"
   ]
  },
  {
   "cell_type": "code",
   "execution_count": null,
   "id": "b74c01b8-7786-4cc4-b596-ed87bb55f699",
   "metadata": {},
   "outputs": [],
   "source": []
  }
 ],
 "metadata": {
  "kernelspec": {
   "display_name": "tf2.13",
   "language": "python",
   "name": "tf2.13"
  },
  "language_info": {
   "codemirror_mode": {
    "name": "ipython",
    "version": 3
   },
   "file_extension": ".py",
   "mimetype": "text/x-python",
   "name": "python",
   "nbconvert_exporter": "python",
   "pygments_lexer": "ipython3",
   "version": "3.8.17"
  }
 },
 "nbformat": 4,
 "nbformat_minor": 5
}
