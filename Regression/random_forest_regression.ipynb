{
 "cells": [
  {
   "cell_type": "code",
   "execution_count": 1,
   "id": "a7d9cb5b-260d-49b7-94a7-d3fd8cffb6a0",
   "metadata": {},
   "outputs": [],
   "source": [
    "import csv\n",
    "import numpy as np\n",
    "from sklearn.utils import shuffle\n",
    "from sklearn.ensemble import RandomForestRegressor\n",
    "from sklearn.metrics import mean_squared_error, explained_variance_score\n",
    "import matplotlib.pyplot as plt"
   ]
  },
  {
   "cell_type": "code",
   "execution_count": 2,
   "id": "6d10b5fb-ec4b-487f-a121-6ef56dce0c19",
   "metadata": {},
   "outputs": [],
   "source": [
    "filename = 'data/bike_day.csv'\n",
    "file_reader = csv.reader(open(filename, 'r'), delimiter = ',')\n",
    "x, y = [],[]\n",
    "# 先不放入 14、15 列\n",
    "for row in file_reader:\n",
    "    x.append(row[2:13])\n",
    "    y.append(row[-1])"
   ]
  },
  {
   "cell_type": "code",
   "execution_count": 3,
   "id": "85c4d8c7-78d2-4383-a532-78b2b93a4dec",
   "metadata": {},
   "outputs": [],
   "source": [
    "# 提取特征名称\n",
    "feature_names = np.array(x[0])\n",
    "# 将第一行特征名称移除，只保留数值\n",
    "x = np.array(x[1:]).astype(np.float32)\n",
    "y = np.array(y[1:]).astype(np.float32)"
   ]
  },
  {
   "cell_type": "code",
   "execution_count": 4,
   "id": "d1ab8f2e-0480-42fd-a4a0-276b849c823a",
   "metadata": {},
   "outputs": [
    {
     "data": {
      "text/plain": [
       "[array([[ 4.       ,  1.       , 12.       , ...,  0.390146 ,  0.905417 ,\n",
       "          0.157975 ],\n",
       "        [ 4.       ,  1.       , 11.       , ...,  0.281558 ,  0.786667 ,\n",
       "          0.237562 ],\n",
       "        [ 3.       ,  1.       ,  9.       , ...,  0.563125 ,  0.57     ,\n",
       "          0.0901833],\n",
       "        ...,\n",
       "        [ 3.       ,  1.       ,  6.       , ...,  0.752542 ,  0.567917 ,\n",
       "          0.118787 ],\n",
       "        [ 3.       ,  0.       ,  7.       , ...,  0.638263 ,  0.585    ,\n",
       "          0.208342 ],\n",
       "        [ 3.       ,  0.       ,  6.       , ...,  0.643313 ,  0.483333 ,\n",
       "          0.209571 ]], dtype=float32),\n",
       " array([3228., 3959., 7333., 4068., 3613., 4575., 4669., 3523., 6786.,\n",
       "        6273., 5115., 6235., 5119., 7282., 4570., 3095., 3624., 7852.,\n",
       "        6536., 5566., 3750., 7424., 2311., 1795., 2294., 5585., 5847.,\n",
       "        8294., 7446., 4086., 6660., 5225., 8362., 3214., 1685., 5409.,\n",
       "        2729., 5847., 1708., 6359., 1917., 3786., 4333., 3333., 1495.,\n",
       "        1321., 6073., 5058., 7494., 2402., 3717., 2277., 5976., 6598.,\n",
       "        3387., 4563., 7109., 5319., 2743., 5312., 1421., 6779., 4270.,\n",
       "        7592., 3727., 6031., 2455., 5035., 2732., 3542., 4511., 7702.,\n",
       "        5992., 5892., 7836., 6824., 3805., 2134., 6904., 5936., 4840.,\n",
       "        2177., 4189., 5409., 4186., 7693., 7112., 4785., 3846., 4694.,\n",
       "        3915., 5729., 7328., 6118., 4362., 4780., 5686., 3944., 7733.,\n",
       "        2192., 7216., 7461., 4765., 4629., 2843., 3910., 3974., 2895.,\n",
       "        5805.,  605., 3747., 2077., 4342., 5130., 3926., 2133., 3005.,\n",
       "        4727., 4274., 5345., 2424., 2913., 2132., 3623.,  754., 6207.,\n",
       "        4788., 3784., 4187., 4911., 6778., 5728., 4792., 3907., 3606.,\n",
       "        4308., 1817., 7639., 7965.,  986., 4549., 4585., 1349., 7767.,\n",
       "        6398., 8555., 7591., 6227., 4400., 5202., 1872., 3873., 3403.,\n",
       "        6770., 1162., 7105., 1796., 6734., 5169., 7525., 8714., 4990.,\n",
       "        3544., 4905., 4862., 2710., 5713., 6861., 7148., 1807., 2935.,\n",
       "        5062., 2115., 1011., 4602., 1529., 4105., 4294., 4046., 4367.,\n",
       "        2927., 4553., 4073., 5260., 6034., 1461., 4839., 2689., 4660.,\n",
       "        6043., 8395., 4040., 3520., 3351., 3204., 7393., 7534., 2792.,\n",
       "        1562., 5323., 2034., 5501., 5255., 7410., 1450.,  683., 6536.,\n",
       "        4679., 1812., 7359., 4906., 4334., 6233., 6883., 4826., 2802.,\n",
       "        7040., 1787., 6530., 7804., 1501.,  506., 6685., 5191., 4058.,\n",
       "        5495., 3872., 2429., 7132., 6784., 1167., 4608., 1107., 4539.,\n",
       "        2423., 4332., 2739., 6290., 5582., 6998., 7509., 5445., 6871.,\n",
       "        1446., 5634., 1985., 7605., 4258., 1471., 4128., 4094., 1996.,\n",
       "        4459., 6211., 6852., 6691., 1416., 1834., 5342., 7720., 7665.,\n",
       "        4023., 2236., 4097., 3641., 1865., 4075., 5611., 1530., 7030.,\n",
       "        1263., 3392., 1526., 4509., 6296., 4521., 5875., 4363., 5102.,\n",
       "        5511., 3614., 1685., 4845., 1027., 6196.,  959., 2432., 6966.,\n",
       "        4592., 4451., 1538., 6864., 4507., 2416., 7572., 4634., 7363.,\n",
       "        2368., 6639., 5743., 4484., 1969., 4195., 2417., 5463., 4677.,\n",
       "        2227., 3767., 2832., 4010., 7286., 6879., 5115., 2425., 3574.,\n",
       "        4790., 2424., 6830., 4595., 5312., 5099., 4773., 4154., 1301.,\n",
       "        5810., 4460., 3053., 4073., 4401., 3982., 5267., 6891., 1360.,\n",
       "        7444., 1543., 4191., 8167.,  985., 7264., 4322., 2431., 6370.,\n",
       "        4760., 4649., 3368., 8227., 3958., 7765., 1600., 4339., 2765.,\n",
       "        3071., 5259., 2594., 4687., 2703., 5464.,  431., 4996., 4866.,\n",
       "        7442., 3190., 6304., 3422., 2485., 6436., 4758., 1248., 4991.,\n",
       "        2028., 4098., 5180., 6889., 3940., 1851., 6824., 1341., 4891.,\n",
       "        2660., 3487., 4195., 1746., 2302., 3068., 6169., 2077., 6855.,\n",
       "        1098., 4972., 3214., 5572., 6230., 2493., 4713., 6772., 3292.,\n",
       "        2933., 2496., 1944., 5170., 4123., 1683., 5084.,  705., 4648.,\n",
       "        1589., 6978., 3740., 3922., 4304., 4803., 5424., 4916., 3785.,\n",
       "        3141., 4433., 2425., 4338., 4708., 4630., 5375., 3761., 5146.,\n",
       "        6053., 3267., 2121., 5260., 4656., 3425., 4795., 5698., 3485.,\n",
       "        3376., 4725., 7129.,  627., 5918., 3570., 4714., 3510., 4352.,\n",
       "        7691., 4541., 5046., 4835., 4661., 1623., 4917., 3669., 5010.,\n",
       "        3663., 7058., 6664., 4266., 3163., 4458., 3831., 3068., 7335.,\n",
       "        3830., 1204., 5020., 7580., 3331., 5204., 3620., 1712., 1977.,\n",
       "        6869., 5459., 4590., 4381., 7175., 7499., 2056., 3115., 3126.,\n",
       "        8173., 8120., 1000., 6192., 2252., 1536., 4035., 4579., 5558.,\n",
       "        3840., 2162., 1115., 7498., 3956., 4940., 3194., 5087., 4833.,\n",
       "        5633., 2566., 3409., 1013., 6140., 1317., 6133., 1650., 5687.,\n",
       "        4401., 4639., 4098., 1096., 2918., 4569., 2659., 7570., 4205.,\n",
       "        6241., 7350., 5362., 6043., 2169., 2298., 4169., 3272., 7347.,\n",
       "        5531., 2471., 8090., 5047., 5698.,   22., 3777., 5823., 1891.,\n",
       "        3117.,  795.,  441., 4459., 7436., 5315., 6591., 6883., 5557.,\n",
       "        6203., 2999., 1977., 4586., 1162., 4978., 4127., 4066., 5305.,\n",
       "        4378., 7001., 7538., 6269., 5191., 4475., 4492., 7641.,  920.,\n",
       "        3894., 3423., 5986.,  822., 4548., 7458., 4359., 5298., 5423.,\n",
       "        6460., 3811., 4763., 7697., 7870., 6969., 4390., 5217.,  801.,\n",
       "        3322., 4120., 2395., 7865., 7006., 2808., 5668., 1472., 5786.,\n",
       "        1749., 7713., 1815., 4966., 5041., 6544., 6392., 5499., 6597.,\n",
       "        4067., 4153., 7582., 3239., 6234., 3351., 6624., 1693., 7460.,\n",
       "        3820., 3867., 4758., 6299., 7290., 5478., 7375., 3389., 5119.,\n",
       "        2914., 6312., 1635., 1606., 7421., 5895., 5740., 7534., 7429.,\n",
       "        3744., 6153., 6421., 1406., 4881., 5117., 1096., 4744., 5515.,\n",
       "        3348., 5302., 6572., 5008., 2376., 8156., 6457., 4318., 4864.,\n",
       "        1605., 4118., 4576., 6569., 5870., 6565., 6041., 4274., 1005.,\n",
       "        3649., 4456., 7415., 8009., 3243., 3429., 5629., 7736., 2475.,\n",
       "        3285., 5138., 7907.,  981., 4375., 2210., 4182., 3129., 3644.,\n",
       "        2633., 1550., 7338., 1927., 5107., 4326., 2114., 5026., 2209.,\n",
       "        7466., 4150., 3249., 3974., 5532., 4486., 3372., 7055., 4985.,\n",
       "        7013., 6917., 3577., 3598., 2947., 3659., 2046., 5538., 4220.,\n",
       "        3855., 4717., 7403., 6857., 3784., 4109., 4748., 5336., 4036.,\n",
       "        4649., 4968., 1607., 6606., 1913., 6093., 1510., 1842., 2744.,\n",
       "        6591., 3456., 5382.,  623., 4844., 4672., 1951., 3310., 7273.,\n",
       "        6825., 4151., 4665., 3709., 7504., 4302., 7261., 7384., 5905.,\n",
       "        5923., 5202.], dtype=float32)]"
      ]
     },
     "execution_count": 4,
     "metadata": {},
     "output_type": "execute_result"
    }
   ],
   "source": [
    "# 打乱数据\n",
    "shuffle(x,y, random_state=7)"
   ]
  },
  {
   "cell_type": "code",
   "execution_count": 5,
   "id": "1efbc0cd-5a9c-480d-99c3-fc3bd811a1cb",
   "metadata": {},
   "outputs": [],
   "source": [
    "num_training = int(0.9 * len(x))\n",
    "x_train, y_train = x[:num_training], y[:num_training]\n",
    "x_test, y_test = x[num_training:], y[num_training:]"
   ]
  },
  {
   "cell_type": "code",
   "execution_count": 6,
   "id": "7da94644-ca15-4150-a1ad-56206f42d702",
   "metadata": {},
   "outputs": [
    {
     "data": {
      "text/plain": [
       "RandomForestRegressor(max_depth=10, n_estimators=1000)"
      ]
     },
     "execution_count": 6,
     "metadata": {},
     "output_type": "execute_result"
    }
   ],
   "source": [
    "# 参数 n_estimators 是指评估器的数量，表示随机森林需要使用的决策树数量\n",
    "# 参数 max_depth 是指决策树的最大深度\n",
    "# 参数 min_samples_split 是指决策树分裂一个节点需要用到的最小数据样板量\n",
    "rf_regressor = RandomForestRegressor(n_estimators=1000, max_depth=10, min_samples_split=2)\n",
    "rf_regressor.fit(x_train, y_train)"
   ]
  },
  {
   "cell_type": "code",
   "execution_count": 7,
   "id": "e0666206-c0c0-4218-9a4c-adc4ae5da9be",
   "metadata": {},
   "outputs": [],
   "source": [
    "# 评估随机森林回归器的训练效果\n",
    "y_pred = rf_regressor.predict(x_test)"
   ]
  },
  {
   "cell_type": "code",
   "execution_count": 8,
   "id": "0c17a524-3609-46e6-9532-400935d517ca",
   "metadata": {},
   "outputs": [
    {
     "name": "stdout",
     "output_type": "stream",
     "text": [
      "#### Random Forest regressor performance ####\n",
      "Mean squared error = 1326923.02\n",
      "Explained variance score = 0.61\n"
     ]
    }
   ],
   "source": [
    "mse = mean_squared_error(y_test, y_pred)\n",
    "evs = explained_variance_score(y_test, y_pred)\n",
    "print(\"#### Random Forest regressor performance ####\")\n",
    "print(\"Mean squared error =\", round(mse, 2))\n",
    "print(\"Explained variance score =\", round(evs, 2))"
   ]
  },
  {
   "cell_type": "code",
   "execution_count": 9,
   "id": "335e1f79-d9cb-4372-99b7-5eccc34cec35",
   "metadata": {},
   "outputs": [],
   "source": [
    "RFFImp = rf_regressor.feature_importances_\n",
    "RFFImp = 100 * (RFFImp / max(RFFImp))\n",
    "index_scored = np.flipud(np.argsort(RFFImp))\n",
    "pos = np.arange(index_scored.shape[0]) + 0.5"
   ]
  },
  {
   "cell_type": "code",
   "execution_count": 10,
   "id": "3ca283d1-4762-4dd5-810e-0d3ea72634ea",
   "metadata": {},
   "outputs": [
    {
     "data": {
      "image/png": "[encoded data removed]",
      "text/plain": [
       "<Figure size 432x288 with 1 Axes>"
      ]
     },
     "metadata": {
      "needs_background": "light"
     },
     "output_type": "display_data"
    }
   ],
   "source": [
    "plt.figure()\n",
    "plt.bar(pos, RFFImp[index_scored], align='center')\n",
    "plt.xticks(pos, feature_names[index_scored])\n",
    "plt.ylabel('Relative Importance')\n",
    "plt.title('Random Forest regressor')\n",
    "plt.show()"
   ]
  },
  {
   "cell_type": "code",
   "execution_count": null,
   "id": "7e0a2a66-faa2-45f6-845f-9bb33ca23c1c",
   "metadata": {},
   "outputs": [],
   "source": []
  }
 ],
 "metadata": {
  "kernelspec": {
   "display_name": "matrix3",
   "language": "python",
   "name": "matrix3"
  },
  "language_info": {
   "codemirror_mode": {
    "name": "ipython",
    "version": 3
   },
   "file_extension": ".py",
   "mimetype": "text/x-python",
   "name": "python",
   "nbconvert_exporter": "python",
   "pygments_lexer": "ipython3",
   "version": "3.6.13"
  }
 },
 "nbformat": 4,
 "nbformat_minor": 5
}
