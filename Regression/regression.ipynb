{
 "cells": [
  {
   "cell_type": "code",
   "execution_count": 36,
   "id": "ceccd52d-986e-4fb2-83fb-dce78841b669",
   "metadata": {},
   "outputs": [],
   "source": [
    "import numpy as np\n",
    "from sklearn import linear_model\n",
    "import matplotlib.pyplot as plt\n",
    "import sklearn.metrics as sm\n",
    "import pickle\n",
    "from utils.measure import print_measure_performance"
   ]
  },
  {
   "cell_type": "code",
   "execution_count": 37,
   "id": "e692f4da-9035-426c-840e-f0448dde5f49",
   "metadata": {},
   "outputs": [],
   "source": [
    "filename = \"data/VehiclesItaly.txt\"\n",
    "\n",
    "x = []\n",
    "y = []\n",
    "with open(filename, 'r') as f:\n",
    "    for line in f.readlines():\n",
    "        xt, yt = [float(i) for i in line.split(',')]\n",
    "        x.append(xt)\n",
    "        y.append(yt)"
   ]
  },
  {
   "cell_type": "code",
   "execution_count": 38,
   "id": "e526c4c7-9604-448a-b2e6-c8d46b28ba73",
   "metadata": {},
   "outputs": [
    {
     "name": "stdout",
     "output_type": "stream",
     "text": [
      "16\n",
      "4\n"
     ]
    }
   ],
   "source": [
    "# 拆分 测试和训练 数据集\n",
    "# Train / test split\n",
    "num_training = int(0.8 * len(x))\n",
    "num_test = len(x) - num_training\n",
    "print(num_training)\n",
    "print(num_test)"
   ]
  },
  {
   "cell_type": "code",
   "execution_count": 39,
   "id": "e985b3fd-a11d-4b7f-a12b-3a6680fccf47",
   "metadata": {},
   "outputs": [],
   "source": [
    "# 训练数据\n",
    "x_train = np.array(x[:num_training]).reshape((num_training,1))\n",
    "y_train = np.array(y[:num_training])"
   ]
  },
  {
   "cell_type": "code",
   "execution_count": 40,
   "id": "eaa32099-c6c0-4b78-8b7d-a2a8ca6a9ce5",
   "metadata": {},
   "outputs": [],
   "source": [
    "# 测试数据\n",
    "x_test = np.array(x[num_training:]).reshape((num_test,1))\n",
    "y_test = np.array(y[num_training:])"
   ]
  },
  {
   "cell_type": "code",
   "execution_count": 41,
   "id": "6fdb1d45-c832-4a8d-a14c-8fed85e29720",
   "metadata": {},
   "outputs": [],
   "source": [
    "def plot(title):\n",
    "    plt.figure()\n",
    "    plt.scatter(x_train, y_train, color='green')\n",
    "    plt.plot(x_train, y_train_pred, color='black', linewidth=4)\n",
    "    plt.title(title)\n",
    "    plt.show()"
   ]
  },
  {
   "cell_type": "code",
   "execution_count": 44,
   "id": "face7943-76d3-49de-87c2-29244a143c15",
   "metadata": {},
   "outputs": [
    {
     "data": {
      "image/png": "[encoded data removed]",
      "text/plain": [
       "<Figure size 432x288 with 1 Axes>"
      ]
     },
     "metadata": {
      "needs_background": "light"
     },
     "output_type": "display_data"
    },
    {
     "data": {
      "image/png": "[encoded data removed]",
      "text/plain": [
       "<Figure size 432x288 with 1 Axes>"
      ]
     },
     "metadata": {
      "needs_background": "light"
     },
     "output_type": "display_data"
    }
   ],
   "source": [
    "# 创建线性回归对象\n",
    "linear_regressor = linear_model.LinearRegression()\n",
    "# 用训练数据集训练模型\n",
    "linear_regressor.fit(x_train, y_train)\n",
    "\n",
    "# 拟合\n",
    "y_train_pred = linear_regressor.predict(x_train)\n",
    "plot('Training data')\n",
    "\n",
    "y_test_pred = linear_regressor.predict(x_test)\n",
    "plot('Test data')\n",
    "# print_measure_performance(y_test, y_test_pred)"
   ]
  },
  {
   "cell_type": "code",
   "execution_count": 47,
   "id": "1a4bfbe8-b5d7-4c0b-b989-f3f37902129e",
   "metadata": {},
   "outputs": [
    {
     "name": "stdout",
     "output_type": "stream",
     "text": [
      "New mean absolute error =  241907.27\n"
     ]
    }
   ],
   "source": [
    "# model persistence 保存模型\n",
    "output_model_file = \"data/model/model_linear_regr.pkl\"\n",
    "\n",
    "with open(output_model_file, 'wb') as f:\n",
    "    pickle.dump(linear_regressor, f)\n",
    "\n",
    "with open(output_model_file, 'rb') as f:\n",
    "    model_lineregr = pickle.load(f)\n",
    "\n",
    "y_test_pred_new = model_lineregr.predict(x_test)\n",
    "print(\"New mean absolute error = \", round(sm.mean_absolute_error(y_test, y_test_pred_new), 2))\n",
    "\n",
    "ridge_regressor = linear_model.Ridge(alpha=0.01, fit_intercept=True, max_iter=10000)\n",
    "\n",
    "ridge_regressor.fit(x_train, y_train)\n",
    "y_test_pred_ridge = ridge_regressor.predict(x_test)\n",
    "# print_measure_performance(y_test, y_test_pred_ridge)"
   ]
  },
  {
   "cell_type": "code",
   "execution_count": null,
   "id": "eef49aff-ea7d-4298-bde4-729fe5c5b2fd",
   "metadata": {},
   "outputs": [],
   "source": []
  }
 ],
 "metadata": {
  "kernelspec": {
   "display_name": "matrix3",
   "language": "python",
   "name": "matrix3"
  },
  "language_info": {
   "codemirror_mode": {
    "name": "ipython",
    "version": 3
   },
   "file_extension": ".py",
   "mimetype": "text/x-python",
   "name": "python",
   "nbconvert_exporter": "python",
   "pygments_lexer": "ipython3",
   "version": "3.6.13"
  }
 },
 "nbformat": 4,
 "nbformat_minor": 5
}
