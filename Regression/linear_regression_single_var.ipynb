{
 "cells": [
  {
   "cell_type": "code",
   "execution_count": 1,
   "id": "3f06ffab-d25a-4f04-a005-6cff1f3172d9",
   "metadata": {},
   "outputs": [],
   "source": [
    "import sys\n",
    "import pickle\n",
    "import numpy as np\n",
    "import sklearn.metrics as sm\n",
    "import matplotlib.pyplot as plt\n",
    "from sklearn import linear_model"
   ]
  },
  {
   "cell_type": "code",
   "execution_count": 2,
   "id": "eea29867-4e04-4130-855b-dc71f0dbc080",
   "metadata": {},
   "outputs": [],
   "source": [
    "# measure performance 计算回归准确性\n",
    "def print_measure_performance(test, test_predict):\n",
    "    # 平均绝对误差\n",
    "    print(\"Mean absolute error = \", round(sm.mean_absolute_error(test, test_predict), 2))\n",
    "    # 均方误差\n",
    "    print(\"Mean squared error = \", round(sm.mean_squared_error(test, test_predict), 2))\n",
    "    # 中位数绝对误差\n",
    "    print(\"Median absolute error = \", round(sm.median_absolute_error(test, test_predict), 2))\n",
    "    # 解释方差分\n",
    "    print(\"Explain variance score = \", round(sm.explained_variance_score(test, test_predict), 2))\n",
    "    # R方得分\n",
    "    print(\"R2 score = \", round(sm.r2_score(test, test_predict), 2))"
   ]
  },
  {
   "cell_type": "code",
   "execution_count": 3,
   "id": "45a1569b-f7b1-4dbf-b8f9-5eecc2fbd2ff",
   "metadata": {},
   "outputs": [],
   "source": [
    "filename = \"./data/data_singlevar.txt\"\n",
    "X = []\n",
    "y = []\n",
    "with open(filename, 'r') as f:\n",
    "    for line in f.readlines():\n",
    "        xt, yt = [float(i) for i in line.split(',')]\n",
    "        X.append(xt)\n",
    "        y.append(yt)\n",
    "\n",
    "# Train/test split\n",
    "num_training = int(0.8 * len(X))\n",
    "num_test = len(X) - num_training"
   ]
  },
  {
   "cell_type": "code",
   "execution_count": 4,
   "id": "2ad93254-43ad-4c88-b690-e11247cb1a8f",
   "metadata": {},
   "outputs": [],
   "source": [
    "# Training data\n",
    "X_train = np.array(X[:num_training]).reshape((num_training,1))\n",
    "y_train = np.array(y[:num_training])\n",
    "\n",
    "# Test data\n",
    "X_test = np.array(X[num_training:]).reshape((num_test,1))\n",
    "y_test = np.array(y[num_training:])"
   ]
  },
  {
   "cell_type": "code",
   "execution_count": 5,
   "id": "12618296-d29a-4500-8d04-8deb599c71d9",
   "metadata": {},
   "outputs": [],
   "source": [
    "# Create linear regression object\n",
    "linear_regressor = linear_model.LinearRegression()\n",
    "\n",
    "# Train the model using the training sets\n",
    "linear_regressor.fit(X_train, y_train)\n",
    "\n",
    "# Predict the output\n",
    "y_test_pred = linear_regressor.predict(X_test)"
   ]
  },
  {
   "cell_type": "code",
   "execution_count": 6,
   "id": "7f401cd7-b080-4135-bdec-c0542d6ac1a6",
   "metadata": {},
   "outputs": [
    {
     "data": {
      "image/png": "[encoded data removed]",
      "text/plain": [
       "<Figure size 432x288 with 1 Axes>"
      ]
     },
     "metadata": {},
     "output_type": "display_data"
    }
   ],
   "source": [
    "# Plot outputs\n",
    "plt.scatter(X_test, y_test, color='green')\n",
    "plt.plot(X_test, y_test_pred, color='black', linewidth=4)\n",
    "plt.xticks(())\n",
    "plt.yticks(())\n",
    "plt.show()"
   ]
  },
  {
   "cell_type": "code",
   "execution_count": 8,
   "id": "dac20999-942c-4e10-8304-b006b1758d9b",
   "metadata": {},
   "outputs": [
    {
     "name": "stdout",
     "output_type": "stream",
     "text": [
      "Mean absolute error =  0.54\n",
      "Mean squared error =  0.38\n",
      "Median absolute error =  0.54\n",
      "Explain variance score =  0.68\n",
      "R2 score =  0.68\n",
      "New mean absolute error = 0.54\n"
     ]
    }
   ],
   "source": [
    "# Measure performance\n",
    "print_measure_performance(y_test, y_test_pred)\n",
    "\n",
    "# Model persistence\n",
    "output_model_file = './data/model/3_model_linear_regr.pkl'\n",
    "\n",
    "with open(output_model_file, 'wb') as f:\n",
    "    pickle.dump(linear_regressor, f)\n",
    "\n",
    "with open(output_model_file, 'rb') as f:\n",
    "    model_linregr = pickle.load(f)\n",
    "\n",
    "y_test_pred_new = model_linregr.predict(X_test)\n",
    "print (\"New mean absolute error =\", round(sm.mean_absolute_error(y_test, y_test_pred_new), 2))"
   ]
  },
  {
   "cell_type": "code",
   "execution_count": null,
   "id": "72f7839b-6e45-4535-84e1-d30f088949d7",
   "metadata": {},
   "outputs": [],
   "source": []
  }
 ],
 "metadata": {
  "kernelspec": {
   "display_name": "matrix3",
   "language": "python",
   "name": "matrix3"
  },
  "language_info": {
   "codemirror_mode": {
    "name": "ipython",
    "version": 3
   },
   "file_extension": ".py",
   "mimetype": "text/x-python",
   "name": "python",
   "nbconvert_exporter": "python",
   "pygments_lexer": "ipython3",
   "version": "3.6.13"
  }
 },
 "nbformat": 4,
 "nbformat_minor": 5
}
