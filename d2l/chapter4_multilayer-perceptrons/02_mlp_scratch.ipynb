{
  "nbformat": 4,
  "nbformat_minor": 0,
  "metadata": {
    "colab": {
      "provenance": [],
      "toc_visible": true,
      "authorship_tag": "ABX9TyPYhfIGG/y6SQdvxgUGzmw1",
      "include_colab_link": true
    },
    "kernelspec": {
      "name": "python3",
      "display_name": "Python 3"
    },
    "language_info": {
      "name": "python"
    }
  },
  "cells": [
    {
      "cell_type": "markdown",
      "metadata": {
        "id": "view-in-github",
        "colab_type": "text"
      },
      "source": [
        "<a href=\"https://colab.research.google.com/github/planning018/machine-learning-tutorials/blob/master/d2l/02_mlp_scratch.ipynb\" target=\"_parent\"><img src=\"https://colab.research.google.com/assets/colab-badge.svg\" alt=\"Open In Colab\"/></a>"
      ]
    },
    {
      "cell_type": "code",
      "execution_count": null,
      "metadata": {
        "id": "T7MfhjPVDYjM"
      },
      "outputs": [],
      "source": [
        "%matplotlib inline\n",
        "import tensorflow as tf\n",
        "from d2l import tensorflow as d2l"
      ]
    },
    {
      "cell_type": "code",
      "source": [
        "batch_size = 256\n",
        "train_iter, test_iter = d2l.load_data_fashion_mnist(batch_size)"
      ],
      "metadata": {
        "id": "wGD_y8sbT_Rh"
      },
      "execution_count": null,
      "outputs": []
    },
    {
      "cell_type": "markdown",
      "source": [
        "### 初始化模型参数"
      ],
      "metadata": {
        "id": "9Z4ALUM9UJGN"
      }
    },
    {
      "cell_type": "code",
      "source": [
        "num_inputs, num_outputs, num_hiddens = 784, 10, 256\n",
        "\n",
        "W1 = tf.Variable(tf.random.normal(\n",
        "    shape=(num_inputs, num_hiddens),\n",
        "    mean=0,\n",
        "    stddev=0.01\n",
        "))\n",
        "b1 = tf.Variable(tf.zeros(num_hiddens))\n",
        "W2 = tf.Variable(tf.random.normal(\n",
        "    shape=(num_inputs, num_hiddens),\n",
        "    mean=0,\n",
        "    stddev=0.01\n",
        "))\n",
        "b2 = tf.Variable(tf.zeros(num_hiddens))\n",
        "\n",
        "params = [W1, b1, W2, b2]"
      ],
      "metadata": {
        "id": "4Mbt_flAUFxt"
      },
      "execution_count": null,
      "outputs": []
    },
    {
      "cell_type": "markdown",
      "source": [
        "### 激活函数"
      ],
      "metadata": {
        "id": "Ba4wxh20VdgT"
      }
    },
    {
      "cell_type": "code",
      "source": [
        "def relu(X):\n",
        "  return tf.math.maximum(X, 0)"
      ],
      "metadata": {
        "id": "ENk9-4KYUMB8"
      },
      "execution_count": null,
      "outputs": []
    },
    {
      "cell_type": "markdown",
      "source": [
        "### 模型"
      ],
      "metadata": {
        "id": "mTowpqoQVquO"
      }
    },
    {
      "cell_type": "code",
      "source": [
        "def net(X):\n",
        "  X = tf.reshape(X, (-1, num_inputs))\n",
        "  H = relu(tf.matmul(X, W1) + b1)\n",
        "  return tf.matmul(H, W2) + b2"
      ],
      "metadata": {
        "id": "qp9A5K_sVgAJ"
      },
      "execution_count": null,
      "outputs": []
    },
    {
      "cell_type": "markdown",
      "source": [
        "### 损失函数"
      ],
      "metadata": {
        "id": "gpeGq_HQWHxL"
      }
    },
    {
      "cell_type": "code",
      "source": [
        "def loss(y_hat, y):\n",
        "  return tf.losses.sparse_categorical_crossentropy(\n",
        "      y, y_hat, from_logits=True\n",
        "  )"
      ],
      "metadata": {
        "id": "Szht0FUBVtPf"
      },
      "execution_count": null,
      "outputs": []
    },
    {
      "cell_type": "markdown",
      "source": [
        "### 训练"
      ],
      "metadata": {
        "id": "PH8FbfYVWlNO"
      }
    },
    {
      "cell_type": "code",
      "source": [
        "class Updater():\n",
        "    \"\"\"For updating parameters using minibatch stochastic gradient descent.\n",
        "\n",
        "    Defined in :numref:`sec_softmax_scratch`\"\"\"\n",
        "    def __init__(self, params, lr):\n",
        "        self.params = params\n",
        "        self.lr = lr\n",
        "\n",
        "    def __call__(self, batch_size, grads):\n",
        "        d2l.sgd(self.params, grads, self.lr, batch_size)"
      ],
      "metadata": {
        "id": "O070VbElZXWi"
      },
      "execution_count": null,
      "outputs": []
    },
    {
      "cell_type": "code",
      "source": [
        "# num_epochs, lr = 10, 0.1\n",
        "# updater = Updater([W1, W2, b1, b2], lr)\n",
        "# d2l.train_ch3(net, train_iter, test_iter, loss, num_epochs, updater)"
      ],
      "metadata": {
        "id": "dbyRRUSAWeuD"
      },
      "execution_count": null,
      "outputs": []
    }
  ]
}